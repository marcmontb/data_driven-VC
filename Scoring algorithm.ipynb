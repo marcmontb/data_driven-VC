{
 "cells": [
  {
   "cell_type": "code",
   "execution_count": null,
   "id": "4b439efd-9566-49c0-964e-9324a05ce62f",
   "metadata": {},
   "outputs": [],
   "source": [
    "#The code presented in this section is the scoring algorithm that is used to find a percentage of similarity\n",
    "#between the new profiles and the database by vectorizing the descriptions of the profiles and using the\n",
    "#method of cosine similarity.\n",
    "\n",
    "import pandas as pd\n",
    "from sklearn.feature_extraction.text import TfidfVectorizer\n",
    "from sklearn.metrics.pairwise import cosine_similarity\n",
    "\n",
    "# Read the profiles database from an Excel file\n",
    "profiles_df = pd.read_csv('database-copia.csv', encoding='latin1')\n",
    "\n",
    "# Read the new profile from an Excel file\n",
    "new_profiles_df = pd.read_csv('testing-copia.csv', encoding='latin1')\n",
    "\n",
    "# Preprocess the data, experience and education separately\n",
    "profiles_exp = profiles_df.iloc[:, 3].tolist()\n",
    "profiles_edu = profiles_df.iloc[:, 4].tolist()\n",
    "new_profiles_exp = new_profiles_df.iloc[:, 3].tolist()\n",
    "new_profiles_edu = new_profiles_df.iloc[:, 4].tolist()\n",
    "\n",
    "vectorizer = TfidfVectorizer()\n",
    "results_df = pd.DataFrame(columns=['New Profile', 'Similarity(%)'])\n",
    "\n",
    "for i, new_profile_exp in enumerate(new_profiles_exp):\n",
    "    new_profile_edu = new_profiles_edu[i]\n",
    "    all_profiles_exp = profiles_exp + [new_profile_exp]\n",
    "    all_profiles_edu = profiles_edu + [new_profile_edu]\n",
    "\n",
    "    # Apply TF-IDF vectorization with the same vocabulary\n",
    "    vectorizer = TfidfVectorizer()\n",
    "    tfidf_matrix_exp = vectorizer.fit_transform(all_profiles_exp)\n",
    "    tfidf_matrix_edu = vectorizer.fit_transform(all_profiles_edu)\n",
    "\n",
    "    # Extract the vector representation of the new profile\n",
    "    new_profile_vector_exp = tfidf_matrix_exp[-1]\n",
    "    new_profile_vector_edu = tfidf_matrix_edu[-1]\n",
    "\n",
    "    # Calculate cosine similarity between the new profile and the entire database\n",
    "    similarity_scores_exp = cosine_similarity(new_profile_vector_exp.reshape(1, -1), tfidf_matrix_exp[:-1])\n",
    "    similarity_scores_edu = cosine_similarity(new_profile_vector_edu.reshape(1, -1), tfidf_matrix_edu[:-1])\n",
    "    similarity_percentage_exp = similarity_scores_exp.mean() * 100\n",
    "    similarity_percentage_edu = similarity_scores_edu.mean() * 100\n",
    "    similarity_percentage = (similarity_percentage_exp + similarity_percentage_edu) / 2\n",
    "\n",
    "    # Combine both scores and add to results\n",
    "    results_df.loc[i] = [new_profiles_df.iloc[i, 0], similarity_percentage]\n",
    "\n",
    "# Sort the DataFrame by similarity percentage in descending order\n",
    "results_df = results_df.sort_values(by='Similarity(%)', ascending=False)\n",
    "\n",
    "# Print the similarity results\n",
    "print(results_df)\n"
   ]
  }
 ],
 "metadata": {
  "kernelspec": {
   "display_name": "Python 3 (ipykernel)",
   "language": "python",
   "name": "python3"
  },
  "language_info": {
   "codemirror_mode": {
    "name": "ipython",
    "version": 3
   },
   "file_extension": ".py",
   "mimetype": "text/x-python",
   "name": "python",
   "nbconvert_exporter": "python",
   "pygments_lexer": "ipython3",
   "version": "3.12.0"
  }
 },
 "nbformat": 4,
 "nbformat_minor": 5
}
