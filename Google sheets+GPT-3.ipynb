{
 "cells": [
  {
   "cell_type": "code",
   "execution_count": 1,
   "id": "574eb9c2-a75d-4da9-a586-7c40c89c95ba",
   "metadata": {},
   "outputs": [],
   "source": [
    "#To add GPT-3 to Google Sheets, we first need to obtain an API key from Open AI. Then, we can open\n",
    "#a Google Sheet and go to Extensions -> Apps Script. When the Apps Script tab opens, we must create\n",
    "#a new project and paste the following code, which enables us to write a prompt, add a cell and specify\n",
    "#the maximum number of words we want to generate:\n",
    "\n",
    "\n",
    "\n",
    "function runOpenAI(prompt, cell, maxWords) {\n",
    "    const API_KEY = \"YourAPIkey\";\n",
    "    maxTokens = 100\n",
    "    if (maxWords) {\n",
    "        maxTokens = maxWords * 0.75\n",
    "    }\n",
    "    model = \"gpt-3.5-turbo\"\n",
    "    prompt = prompt + cell + \":\"\n",
    "    temperature = 0\n",
    "\n",
    "    // Set up the request body with the given parameters\n",
    "    const requestBody = {\n",
    "        \"model\": model,\n",
    "        \"messages\": [\n",
    "            {\"role\": \"system\", \"content\": \"You are a helpful assistant that answers questions.\"},\n",
    "            {\"role\": \"user\", \"content\": prompt},\n",
    "        ],\n",
    "        \"temperature\": temperature,\n",
    "        \"max_tokens\": maxTokens\n",
    "    };\n",
    "    console.log(requestBody)\n",
    "\n",
    "    // Set up the request options with the required headers\n",
    "    const requestOptions = {\n",
    "        \"method\": \"POST\",\n",
    "        \"headers\": {\n",
    "            \"Content-Type\": \"application/json\",\n",
    "            \"Authorization\": \"Bearer \" + API_KEY\n",
    "        },\n",
    "        \"payload\": JSON.stringify(requestBody)\n",
    "    };\n",
    "\n",
    "    // Send the request to the GPT-3 API endpoint for completions\n",
    "    const response = UrlFetchApp.fetch(\"https://api.openai.com/v1/chat/completions\", requestOptions);\n",
    "    console.log(response.getContentText())\n",
    "\n",
    "    // Get the response body as a JSON object\n",
    "    const responseBody = JSON.parse(response.getContentText());\n",
    "    //let answer= responseBody.choices[0][\"text\"].text\n",
    "    let answer = responseBody.choices[0][\"message\"][\"content\"]\n",
    "    return answer\n",
    "}\n"
   ]
  },
  {
   "cell_type": "code",
   "execution_count": null,
   "id": "13c8276c-c902-4ad3-8ce8-6d755227df38",
   "metadata": {},
   "outputs": [],
   "source": []
  }
 ],
 "metadata": {
  "kernelspec": {
   "display_name": "Python 3 (ipykernel)",
   "language": "python",
   "name": "python3"
  },
  "language_info": {
   "codemirror_mode": {
    "name": "ipython",
    "version": 3
   },
   "file_extension": ".py",
   "mimetype": "text/x-python",
   "name": "python",
   "nbconvert_exporter": "python",
   "pygments_lexer": "ipython3",
   "version": "3.12.0"
  }
 },
 "nbformat": 4,
 "nbformat_minor": 5
}
